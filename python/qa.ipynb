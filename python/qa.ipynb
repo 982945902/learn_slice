{
 "cells": [
  {
   "cell_type": "code",
   "execution_count": 1,
   "metadata": {},
   "outputs": [],
   "source": [
    "def example_function(param_with_default='default value'):\n",
    "    print(f\"The parameter is: {param_with_default}\")\n"
   ]
  },
  {
   "cell_type": "code",
   "execution_count": 3,
   "metadata": {},
   "outputs": [
    {
     "name": "stdout",
     "output_type": "stream",
     "text": [
      "The parameter is: non-default value\n",
      "The parameter is: non-default value\n"
     ]
    }
   ],
   "source": [
    "flag = True  # 或者 False，这个会根据你的具体逻辑来设置\n",
    "value_to_pass = 'non-default value'\n",
    "\n",
    "import inspect\n",
    "\n",
    "# 使用三元运算符根据 flag 的值调用函数\n",
    "example_function(value_to_pass if flag else inspect.signature(example_function).parameters['param_with_default'].default)\n",
    "\n",
    "# 另一个方式是使用字典展开，当你想传递参数时:\n",
    "if flag:\n",
    "    example_function(param_with_default=value_to_pass)\n",
    "else:\n",
    "    example_function()  # 使用默认参数值\n"
   ]
  },
  {
   "cell_type": "code",
   "execution_count": 10,
   "metadata": {},
   "outputs": [],
   "source": [
    "from enum import Enum\n",
    "import cloudpickle\n",
    "\n",
    "\n",
    "class BlockStatus(Enum):\n",
    "    \"\"\"\n",
    "    \"\"\"\n",
    "    INIT = 0\n",
    "    PREPARED = 1\n",
    "    PROCSSING = 2\n",
    "    PROCESSED = 3\n",
    "    FAILED = 4\n",
    "bst = BlockStatus.INIT\n",
    "def test(bts):\n",
    "    cloudpickle.dumps(bst)\n",
    "\n",
    "test(bst)"
   ]
  },
  {
   "cell_type": "code",
   "execution_count": 11,
   "metadata": {},
   "outputs": [
    {
     "name": "stdout",
     "output_type": "stream",
     "text": [
      "\n",
      "Sorted array is\n",
      "1\n",
      "2\n",
      "3\n",
      "4\n",
      "5\n",
      "6\n",
      "7\n",
      "9\n"
     ]
    }
   ],
   "source": [
    "def compare_swap(a, i, j, d):\n",
    "    if (d == 1 and a[i] > a[j]) or (d == 0 and a[i] < a[j]):\n",
    "        a[i], a[j] = a[j], a[i]\n",
    "  \n",
    " \n",
    "def merge(a, l, cnt, d):\n",
    "    if cnt > 1:\n",
    "        k = int(cnt / 2)\n",
    "        for i in range(l, l + k):\n",
    "            compare_swap(a, i, i + k, d)\n",
    "        merge(a, l, k, d)\n",
    "        merge(a, l + k, k, d)\n",
    " \n",
    "def bitonic_sort(a, l, cnt, d):\n",
    "    if cnt > 1:\n",
    "        k = int(cnt / 2)\n",
    "        bitonic_sort(a, l, k, 1)\n",
    "        bitonic_sort(a, l + k, k, 0)\n",
    "        merge(a, l, cnt, d)\n",
    "  \n",
    " \n",
    "def sort(a, N, u):\n",
    "    bitonic_sort(a, 0, N, u)\n",
    "  \n",
    "a = [3, 4, 1, 9, 2, 7, 5, 6]\n",
    "n=len(a)\n",
    "    \n",
    "u = 1\n",
    "  \n",
    "sort(a, n, u)\n",
    "print(\"\\nSorted array is\")\n",
    "for i in range(n):\n",
    "    print(\"%d\" % a[i])"
   ]
  },
  {
   "cell_type": "code",
   "execution_count": 1,
   "metadata": {},
   "outputs": [
    {
     "name": "stdout",
     "output_type": "stream",
     "text": [
      "2.0.2\n"
     ]
    }
   ],
   "source": [
    "from packaging.version import Version\n",
    "import pandas as pd\n",
    "\n",
    "print(Version(pd.__version__))"
   ]
  },
  {
   "cell_type": "code",
   "execution_count": 10,
   "metadata": {},
   "outputs": [
    {
     "name": "stdout",
     "output_type": "stream",
     "text": [
      "[1]\n",
      "[1, 2]\n"
     ]
    }
   ],
   "source": [
    "def append_to(num, target=[]):\n",
    "    target.append(num)\n",
    "    return target\n",
    "\n",
    "print(append_to(1))\n",
    "print(append_to(2)) "
   ]
  }
 ],
 "metadata": {
  "kernelspec": {
   "display_name": "Python 3",
   "language": "python",
   "name": "python3"
  },
  "language_info": {
   "codemirror_mode": {
    "name": "ipython",
    "version": 3
   },
   "file_extension": ".py",
   "mimetype": "text/x-python",
   "name": "python",
   "nbconvert_exporter": "python",
   "pygments_lexer": "ipython3",
   "version": "3.11.5"
  }
 },
 "nbformat": 4,
 "nbformat_minor": 2
}
