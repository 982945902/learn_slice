{
 "cells": [
  {
   "cell_type": "code",
   "execution_count": null,
   "metadata": {},
   "outputs": [],
   "source": [
    "def example_function(param_with_default='default value'):\n",
    "    print(f\"The parameter is: {param_with_default}\")\n"
   ]
  },
  {
   "cell_type": "code",
   "execution_count": null,
   "metadata": {},
   "outputs": [],
   "source": [
    "flag = True  # 或者 False，这个会根据你的具体逻辑来设置\n",
    "value_to_pass = 'non-default value'\n",
    "\n",
    "import inspect\n",
    "\n",
    "# 使用三元运算符根据 flag 的值调用函数\n",
    "example_function(value_to_pass if flag else inspect.signature(example_function).parameters['param_with_default'].default)\n",
    "\n",
    "# 另一个方式是使用字典展开，当你想传递参数时:\n",
    "if flag:\n",
    "    example_function(param_with_default=value_to_pass)\n",
    "else:\n",
    "    example_function()  # 使用默认参数值\n"
   ]
  },
  {
   "cell_type": "code",
   "execution_count": null,
   "metadata": {},
   "outputs": [],
   "source": [
    "from enum import Enum\n",
    "import cloudpickle\n",
    "\n",
    "\n",
    "class BlockStatus(Enum):\n",
    "    \"\"\"\n",
    "    \"\"\"\n",
    "    INIT = 0\n",
    "    PREPARED = 1\n",
    "    PROCSSING = 2\n",
    "    PROCESSED = 3\n",
    "    FAILED = 4\n",
    "bst = BlockStatus.INIT\n",
    "def test(bts):\n",
    "    cloudpickle.dumps(bst)\n",
    "\n",
    "test(bst)"
   ]
  },
  {
   "cell_type": "code",
   "execution_count": null,
   "metadata": {},
   "outputs": [],
   "source": [
    "def compare_swap(a, i, j, d):\n",
    "    if (d == 1 and a[i] > a[j]) or (d == 0 and a[i] < a[j]):\n",
    "        a[i], a[j] = a[j], a[i]\n",
    "  \n",
    " \n",
    "def merge(a, l, cnt, d):\n",
    "    if cnt > 1:\n",
    "        k = int(cnt / 2)\n",
    "        for i in range(l, l + k):\n",
    "            compare_swap(a, i, i + k, d)\n",
    "        merge(a, l, k, d)\n",
    "        merge(a, l + k, k, d)\n",
    " \n",
    "def bitonic_sort(a, l, cnt, d):\n",
    "    if cnt > 1:\n",
    "        k = int(cnt / 2)\n",
    "        bitonic_sort(a, l, k, 1)\n",
    "        bitonic_sort(a, l + k, k, 0)\n",
    "        merge(a, l, cnt, d)\n",
    "  \n",
    " \n",
    "def sort(a, N, u):\n",
    "    bitonic_sort(a, 0, N, u)\n",
    "  \n",
    "a = [3, 4, 1, 9, 2, 7, 5, 6]\n",
    "n=len(a)\n",
    "    \n",
    "u = 1\n",
    "  \n",
    "sort(a, n, u)\n",
    "print(\"\\nSorted array is\")\n",
    "for i in range(n):\n",
    "    print(\"%d\" % a[i])"
   ]
  },
  {
   "cell_type": "code",
   "execution_count": null,
   "metadata": {},
   "outputs": [],
   "source": [
    "from packaging.version import Version\n",
    "import pandas as pd\n",
    "\n",
    "print(Version(pd.__version__))"
   ]
  },
  {
   "cell_type": "code",
   "execution_count": null,
   "metadata": {},
   "outputs": [],
   "source": [
    "def append_to(num, target=[]):\n",
    "    target.append(num)\n",
    "    return target\n",
    "\n",
    "print(append_to(1))\n",
    "print(append_to(2)) "
   ]
  },
  {
   "cell_type": "code",
   "execution_count": null,
   "metadata": {},
   "outputs": [],
   "source": [
    "a = [1,2,3]\n",
    "a.index(2)\n",
    "a.pop(0)\n",
    "a"
   ]
  },
  {
   "cell_type": "code",
   "execution_count": null,
   "metadata": {},
   "outputs": [],
   "source": [
    "class MyClass:\n",
    "    def __init__(self):\n",
    "        self.value = 0\n",
    "\n",
    "def closure_func(obj):\n",
    "    def inner_func():\n",
    "        obj.value = 10\n",
    "    \n",
    "    inner_func()\n",
    "    print(obj.value)\n",
    "\n",
    "# 创建实例\n",
    "my_obj = MyClass()\n",
    "\n",
    "# 调用闭包函数并修改实例属性\n",
    "closure_func(my_obj)\n",
    "\n",
    "print(my_obj.value)"
   ]
  },
  {
   "cell_type": "code",
   "execution_count": null,
   "metadata": {},
   "outputs": [],
   "source": [
    "a = int(-1)\n",
    "\n",
    "print(a == -1)\n",
    "\n",
    "def cur():\n",
    "    a = 100\n",
    "\n",
    "cur()\n",
    "print(a)"
   ]
  },
  {
   "cell_type": "code",
   "execution_count": null,
   "metadata": {},
   "outputs": [],
   "source": [
    "import ast\n",
    "import json\n",
    "\n",
    "# 从JSON文件加载配置\n",
    "with open('config.json', 'r') as f:\n",
    "    config = json.load(f)\n",
    "\n",
    "# 创建一个Module节点作为语法树的根节点\n",
    "module = ast.Module(body=[])\n",
    "\n",
    "\n",
    "# 根据配置生成相应的语法树节点\n",
    "for key, value in config.items():\n",
    "    print(key,value)\n",
    "    assign_node = ast.Assign(\n",
    "        targets=[ast.Name(id=key, ctx=ast.Store())],\n",
    "        value=ast.Constant(value=value)\n",
    "    )\n",
    "    module.body.append(assign_node)\n",
    "\n",
    "# 将语法树转换为Python代码\n",
    "code = ast.unparse(module)\n",
    "\n",
    "# 保存生成的Python代码到文件\n",
    "with open('generated_code.py', 'w') as f:\n",
    "    f.write(code)\n",
    "\n",
    "print(\"生成的Python代码已保存到 generated_code.py 文件中\")"
   ]
  },
  {
   "cell_type": "code",
   "execution_count": 8,
   "metadata": {},
   "outputs": [
    {
     "name": "stderr",
     "output_type": "stream",
     "text": [
      "/opt/homebrew/lib/python3.11/site-packages/memory_profiler.py:188: UserWarning: psutil module not found. memory_profiler will be slow\n",
      "  warnings.warn(\"psutil module not found. memory_profiler will be slow\")\n",
      "/opt/homebrew/lib/python3.11/site-packages/memory_profiler.py:188: UserWarning: psutil module not found. memory_profiler will be slow\n",
      "  warnings.warn(\"psutil module not found. memory_profiler will be slow\")\n",
      "/opt/homebrew/lib/python3.11/site-packages/memory_profiler.py:188: UserWarning: psutil module not found. memory_profiler will be slow\n",
      "  warnings.warn(\"psutil module not found. memory_profiler will be slow\")\n",
      "/opt/homebrew/lib/python3.11/site-packages/memory_profiler.py:188: UserWarning: psutil module not found. memory_profiler will be slow\n",
      "  warnings.warn(\"psutil module not found. memory_profiler will be slow\")\n"
     ]
    },
    {
     "name": "stdout",
     "output_type": "stream",
     "text": [
      "[49.046875, 96.15625, 209.375, 209.375, 56.828125]\n",
      "0.2044677734375\n"
     ]
    },
    {
     "name": "stderr",
     "output_type": "stream",
     "text": [
      "/opt/homebrew/lib/python3.11/site-packages/memory_profiler.py:188: UserWarning: psutil module not found. memory_profiler will be slow\n",
      "  warnings.warn(\"psutil module not found. memory_profiler will be slow\")\n",
      "/opt/homebrew/lib/python3.11/site-packages/memory_profiler.py:188: UserWarning: psutil module not found. memory_profiler will be slow\n",
      "  warnings.warn(\"psutil module not found. memory_profiler will be slow\")\n",
      "/opt/homebrew/lib/python3.11/site-packages/memory_profiler.py:188: UserWarning: psutil module not found. memory_profiler will be slow\n",
      "  warnings.warn(\"psutil module not found. memory_profiler will be slow\")\n",
      "/opt/homebrew/lib/python3.11/site-packages/memory_profiler.py:188: UserWarning: psutil module not found. memory_profiler will be slow\n",
      "  warnings.warn(\"psutil module not found. memory_profiler will be slow\")\n"
     ]
    }
   ],
   "source": [
    "from memory_profiler import profile,memory_usage\n",
    "\n",
    "# @profile\n",
    "def my_func():\n",
    "    a = [1] * (10 ** 6)\n",
    "    b = [2] * (2 * 10 ** 7)\n",
    "    del b\n",
    "    return a\n",
    "\n",
    "if __name__ == '__main__':\n",
    "    # my_func()\n",
    "\n",
    "    mem_usage = memory_usage(my_func, interval=.2, timeout=1, backend=\"posix\")\n",
    "\n",
    "    print(mem_usage)\n",
    "\n",
    "    print(max(mem_usage)/1024)"
   ]
  }
 ],
 "metadata": {
  "kernelspec": {
   "display_name": "Python 3",
   "language": "python",
   "name": "python3"
  },
  "language_info": {
   "codemirror_mode": {
    "name": "ipython",
    "version": 3
   },
   "file_extension": ".py",
   "mimetype": "text/x-python",
   "name": "python",
   "nbconvert_exporter": "python",
   "pygments_lexer": "ipython3",
   "version": "3.11.5"
  }
 },
 "nbformat": 4,
 "nbformat_minor": 2
}
