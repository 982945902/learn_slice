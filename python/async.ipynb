{
 "cells": [
  {
   "cell_type": "code",
   "execution_count": null,
   "metadata": {},
   "outputs": [],
   "source": [
    "import asyncio"
   ]
  },
  {
   "cell_type": "code",
   "execution_count": null,
   "metadata": {},
   "outputs": [],
   "source": [
    "async def test_1(i):\n",
    "    await asyncio.sleep(i)\n",
    "\n",
    "    return i"
   ]
  },
  {
   "cell_type": "code",
   "execution_count": null,
   "metadata": {},
   "outputs": [],
   "source": [
    "aa = await  test_1(1)\n",
    "aa"
   ]
  },
  {
   "cell_type": "code",
   "execution_count": null,
   "metadata": {},
   "outputs": [],
   "source": [
    "\n",
    "d,p =  await asyncio.wait([asyncio.create_task(test_1(1)) for i in range(3)],timeout=2)\n"
   ]
  },
  {
   "cell_type": "code",
   "execution_count": null,
   "metadata": {},
   "outputs": [],
   "source": [
    "for r in d:\n",
    "    print(r.result())"
   ]
  },
  {
   "cell_type": "code",
   "execution_count": null,
   "metadata": {},
   "outputs": [],
   "source": [
    "import asyncio\n",
    "\n",
    "async def my_coroutine(name, delay):\n",
    "    print(f\"{name} 开始执行\")\n",
    "    await asyncio.sleep(delay)\n",
    "    print(f\"{name} 执行完成\")\n",
    "\n",
    "async def main():\n",
    "    print(\"创建任务前\")\n",
    "    task1 = asyncio.create_task(my_coroutine(\"任务1\", 2))\n",
    "    task2 = asyncio.create_task(my_coroutine(\"任务2\", 1))\n",
    "    print(\"创建任务后\")\n",
    "    await asyncio.sleep(1)  # 等待一段时间，模拟其他操作\n",
    "    print(\"等待任务完成\")\n",
    "    await task1\n",
    "    await task2\n",
    "    print(\"所有任务已完成\")\n",
    "# if __name__ == \"__main__\":\n",
    "#     asyncio.run(main())\n",
    "await main()\n"
   ]
  }
 ],
 "metadata": {
  "kernelspec": {
   "display_name": "Python 3",
   "language": "python",
   "name": "python3"
  },
  "language_info": {
   "codemirror_mode": {
    "name": "ipython",
    "version": 3
   },
   "file_extension": ".py",
   "mimetype": "text/x-python",
   "name": "python",
   "nbconvert_exporter": "python",
   "pygments_lexer": "ipython3",
   "version": "3.11.5"
  }
 },
 "nbformat": 4,
 "nbformat_minor": 2
}
