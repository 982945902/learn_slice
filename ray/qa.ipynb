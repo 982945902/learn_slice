{
 "cells": [
  {
   "cell_type": "code",
   "execution_count": null,
   "metadata": {},
   "outputs": [],
   "source": [
    "import ray\n",
    "import time\n",
    "\n",
    "@ray.remote\n",
    "def test():\n",
    "    time.sleep(10)\n",
    "    # pass\n",
    "\n",
    "ray.get(test.remote())"
   ]
  },
  {
   "cell_type": "code",
   "execution_count": null,
   "metadata": {},
   "outputs": [],
   "source": [
    "class Batcher:\n",
    "    def __init__(self, batch_size):\n",
    "        self.batch_size = batch_size\n",
    "\n",
    "    def __call__(self, batch):\n",
    "        # 这里你可以在每个批次数据上执行所需的操作\n",
    "        # 示例中只是简单地打印批次大小和批次数据\n",
    "        print(f\"Processing batch of size {self.batch_size} {batch}\")\n",
    "        return batch  # 或者你可以在这里返回你修改后的批次\n",
    "\n",
    "import ray\n",
    "\n",
    "# 假设我们已经初始化了Ray\n",
    "ray.init()\n",
    "\n",
    "# 创建一个 Ray Dataset 的示例\n",
    "ds = ray.data.range(100)\n",
    "\n",
    "# 创建我们的可调用类实例\n",
    "batcher = Batcher(batch_size=5)\n",
    "\n",
    "# 使用 map_batches 进行批处理，将可调用的类传递给它\n",
    "new_ds = ds.map_batches(batcher, batch_size=5)\n",
    "\n",
    "# 获取并处理结果\n",
    "result = new_ds.take()\n"
   ]
  },
  {
   "cell_type": "code",
   "execution_count": 4,
   "metadata": {},
   "outputs": [
    {
     "name": "stderr",
     "output_type": "stream",
     "text": [
      "2024-01-03 14:13:23,607\tINFO worker.py:1724 -- Started a local Ray instance.\n"
     ]
    },
    {
     "name": "stdout",
     "output_type": "stream",
     "text": [
      "10.0\n",
      "7355126580.0\n",
      "2147483648.0\n",
      "200\n",
      "1048576\n",
      "134217728\n"
     ]
    }
   ],
   "source": [
    "import ray\n",
    "from ray.data.context import DatasetContext\n",
    "\n",
    "def calculate_parallelism(file_size):\n",
    "    resources = ray.available_resources()\n",
    "    context = DatasetContext.get_current()\n",
    "\n",
    "    \n",
    "\n",
    "    parallelism = \n",
    "\n",
    "    if context.min_parallelism * context.target_max_block_size > 0.8 * resources['object_store_memory']:\n",
    "\n",
    "\n",
    "\n",
    "    cpu_num = resources.get('CPU', 0)\n",
    "    object_store_memory = resources.get('object_store_memory', 0)\n",
    "    memory = resources.get('memory', 0)\n",
    "\n",
    "    \n",
    "    min_parallelism = \n",
    "    target_min_block_size = context.target_min_block_size\n",
    "\n",
    "\n",
    "ray.init()\n",
    "resources = ray.available_resources()\n",
    "print(resources.get('CPU', 0))\n",
    "print(resources.get('memory', 0))\n",
    "print(resources.get('object_store_memory', 0))\n",
    "context = DatasetContext.get_current()\n",
    "# print(type(ray.available_resources()['CPU']))\n",
    "\n",
    "print(context.min_parallelism)\n",
    "print(context.target_min_block_size)\n",
    "print(context.target_max_block_size)\n",
    "\n",
    "ray.shutdown()"
   ]
  }
 ],
 "metadata": {
  "kernelspec": {
   "display_name": "Python 3",
   "language": "python",
   "name": "python3"
  },
  "language_info": {
   "codemirror_mode": {
    "name": "ipython",
    "version": 3
   },
   "file_extension": ".py",
   "mimetype": "text/x-python",
   "name": "python",
   "nbconvert_exporter": "python",
   "pygments_lexer": "ipython3",
   "version": "3.11.5"
  }
 },
 "nbformat": 4,
 "nbformat_minor": 2
}
