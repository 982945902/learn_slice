{
 "cells": [
  {
   "cell_type": "code",
   "execution_count": 1,
   "metadata": {},
   "outputs": [],
   "source": [
    "from langchain.llms import GPT4All\n",
    "from langchain import PromptTemplate, LLMChain"
   ]
  },
  {
   "cell_type": "code",
   "execution_count": null,
   "metadata": {},
   "outputs": [],
   "source": [
    "# create a prompt template where it contains some initial instructions\n",
    "# here we say our LLM to think step by step and give the answer\n",
    "\n",
    "template = \"\"\"\n",
    "Let's think step by step of the question: {question}\n",
    "Based on all the thought the final answer becomes:\n",
    "\"\"\"\n",
    "prompt = PromptTemplate(template=template, input_variables=[\"question\"])\n",
    "\n",
    "# paste the path where your model's weight are located (.bin file)\n",
    "# you can download the models by going to gpt4all's website.\n",
    "# scripts for downloading is also available in the later \n",
    "# sections of this tutorial\n",
    "\n",
    "local_path = (\"./models/GPT4All/ggml-gpt4all-j-v1.3-groovy.bin\")\n",
    "\n",
    "# initialize the LLM and make chain it with the prompts\n",
    "\n",
    "llm = GPT4All(\n",
    "    model=local_path, \n",
    "    backend=\"llama\", \n",
    ")\n",
    "\n",
    "llm_chain = LLMChain(prompt=prompt, llm=llm, verbose=True)\n",
    "\n",
    "# run the chain with your query (question)\n",
    "\n",
    "llm_chain('Who is the CEO of Google and why he became the ceo of Google?')"
   ]
  }
 ],
 "metadata": {
  "kernelspec": {
   "display_name": "Python 3",
   "language": "python",
   "name": "python3"
  },
  "language_info": {
   "codemirror_mode": {
    "name": "ipython",
    "version": 3
   },
   "file_extension": ".py",
   "mimetype": "text/x-python",
   "name": "python",
   "nbconvert_exporter": "python",
   "pygments_lexer": "ipython3",
   "version": "3.11.5"
  }
 },
 "nbformat": 4,
 "nbformat_minor": 2
}
