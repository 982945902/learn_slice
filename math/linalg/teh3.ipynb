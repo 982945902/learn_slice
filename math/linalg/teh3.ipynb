{
 "cells": [
  {
   "cell_type": "code",
   "execution_count": 7,
   "metadata": {},
   "outputs": [
    {
     "name": "stdout",
     "output_type": "stream",
     "text": [
      "[ 1. -2. -2.]\n"
     ]
    }
   ],
   "source": [
    "import numpy as np\n",
    "\n",
    "def gaussian_elimination(A, b):\n",
    "    n = len(A)\n",
    "    # For each row in A\n",
    "    for i in range(n):\n",
    "        # Make the diagonal contain the largest absolute value\n",
    "        max_row = np.argmax(np.abs(A[i:, i])) + i\n",
    "        A[[i, max_row]] = A[[max_row, i]]\n",
    "        b[i], b[max_row] = b[max_row], b[i]\n",
    "\n",
    "        # Make all rows below this one 0 in current column\n",
    "        for k in range(i+1, n):\n",
    "            c = -A[k][i] / A[i][i]\n",
    "            A[k] = A[k] + c * A[i]\n",
    "            b[k] = b[k] + c * b[i]\n",
    "\n",
    "    # Solve equation Ax=b for an upper triangular matrix A\n",
    "    x = np.zeros(n)\n",
    "    for i in range(n-1, -1, -1):\n",
    "        x[i] = (b[i] - np.dot(A[i, i+1:], x[i+1:])) / A[i][i]\n",
    "    return x\n",
    "\n",
    "# Example usage:\n",
    "A = np.array([[3, 2, -1], [2, -2, 4], [-1, 0.5, -1]], dtype=float)\n",
    "b = np.array([1, -2, 0], dtype=float)\n",
    "x = gaussian_elimination(A, b)\n",
    "print(x)\n"
   ]
  },
  {
   "cell_type": "code",
   "execution_count": 14,
   "metadata": {},
   "outputs": [
    {
     "name": "stdout",
     "output_type": "stream",
     "text": [
      "[[ 2.  -2.   4. ]\n",
      " [-1.   0.5 -1. ]]\n"
     ]
    }
   ],
   "source": [
    "import numpy as np\n",
    "A = np.array([[3, 2, -1], [2, -2, 4], [-1, 0.5, -1]], dtype=float)\n",
    "\n",
    "print(A[[1,2]])\n"
   ]
  }
 ],
 "metadata": {
  "kernelspec": {
   "display_name": "Python 3",
   "language": "python",
   "name": "python3"
  },
  "language_info": {
   "codemirror_mode": {
    "name": "ipython",
    "version": 3
   },
   "file_extension": ".py",
   "mimetype": "text/x-python",
   "name": "python",
   "nbconvert_exporter": "python",
   "pygments_lexer": "ipython3",
   "version": "3.11.5"
  }
 },
 "nbformat": 4,
 "nbformat_minor": 2
}
