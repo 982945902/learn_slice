{
 "cells": [
  {
   "cell_type": "code",
   "execution_count": 1,
   "metadata": {},
   "outputs": [
    {
     "name": "stdout",
     "output_type": "stream",
     "text": [
      "env: CC=/opt/homebrew/Cellar/gcc@11/11.4.0/bin/g++-11\n",
      "env: CXX=/opt/homebrew/Cellar/gcc@11/11.4.0/bin/g++-11\n"
     ]
    },
    {
     "name": "stderr",
     "output_type": "stream",
     "text": [
      "/opt/homebrew/lib/python3.11/site-packages/setuptools/_distutils/dist.py:265: UserWarning: Unknown distribution option: 'language'\n",
      "  warnings.warn(msg)\n",
      "/opt/homebrew/lib/python3.11/site-packages/setuptools/_distutils/dist.py:265: UserWarning: Unknown distribution option: 'extra_compile_args'\n",
      "  warnings.warn(msg)\n",
      "/opt/homebrew/lib/python3.11/site-packages/setuptools/_distutils/dist.py:265: UserWarning: Unknown distribution option: 'extra_link_args'\n",
      "  warnings.warn(msg)\n"
     ]
    }
   ],
   "source": [
    "%env CC=/opt/homebrew/Cellar/gcc@11/11.4.0/bin/g++-11\n",
    "%env CXX=/opt/homebrew/Cellar/gcc@11/11.4.0/bin/g++-11\n",
    "\n",
    "import pyximport\n",
    "pyximport.install(setup_args={\n",
    "            'language': 'c++',\n",
    "            \"include_dirs\": \".\",\n",
    "            'extra_compile_args': [\"-Wno-cpp\",\"-L/Users/lishuo121/workspace/learn_slice/cython\",\"-lc_lib\", \"-Wno-unused-function\", \"-O2\", \"-march=native\", '-stdlib=libc++', '-std=c++11'],\n",
    "            'extra_link_args': [\"-O2\",\"-L/Users/lishuo121/workspace/learn_slice/cython\",\"-lc_lib\", \"-march=native\", '-stdlib=libc++'],\n",
    "        \n",
    "    })\n",
    "import ctypes\n",
    "from ctypes import CDLL\n",
    "\n",
    "CDLL(\"libc_lib.dylib\", ctypes.RTLD_GLOBAL)\n",
    "import use_c_lib\n"
   ]
  },
  {
   "cell_type": "code",
   "execution_count": 2,
   "metadata": {},
   "outputs": [
    {
     "name": "stdout",
     "output_type": "stream",
     "text": [
      "sdadsada\n"
     ]
    }
   ],
   "source": [
    "use_c_lib.print()"
   ]
  }
 ],
 "metadata": {
  "kernelspec": {
   "display_name": "Python 3",
   "language": "python",
   "name": "python3"
  },
  "language_info": {
   "codemirror_mode": {
    "name": "ipython",
    "version": 3
   },
   "file_extension": ".py",
   "mimetype": "text/x-python",
   "name": "python",
   "nbconvert_exporter": "python",
   "pygments_lexer": "ipython3",
   "version": "3.11.5"
  }
 },
 "nbformat": 4,
 "nbformat_minor": 2
}
