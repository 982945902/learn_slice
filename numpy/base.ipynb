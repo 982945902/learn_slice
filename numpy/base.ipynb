{
 "cells": [
  {
   "cell_type": "code",
   "execution_count": 1,
   "metadata": {},
   "outputs": [],
   "source": [
    "import numpy as np"
   ]
  },
  {
   "cell_type": "code",
   "execution_count": 6,
   "metadata": {},
   "outputs": [
    {
     "name": "stdout",
     "output_type": "stream",
     "text": [
      "[-5.  5.]\n",
      "[-5.  5.]\n",
      "[[-5.  5.]\n",
      " [-5.  5.]]\n",
      "[[-5. -5.]\n",
      " [ 5.  5.]]\n"
     ]
    }
   ],
   "source": [
    "\n",
    "\n",
    "x = np.linspace(-5, 5, 2)  # 生成一个一维数组，从-5到5，共10个元素\n",
    "y = np.linspace(-5, 5, 2)  # 同上\n",
    "\n",
    "print(x)\n",
    "print(y)\n",
    "\n",
    "X, Y = np.meshgrid(x, y)    # 使用meshgrid生成二维网格\n",
    "\n",
    "print(X)\n",
    "print(Y)\n"
   ]
  },
  {
   "cell_type": "code",
   "execution_count": null,
   "metadata": {},
   "outputs": [],
   "source": [
    "from matplotlib import axis\n",
    "\n",
    "\n",
    "a = np.array([[2,4],[3,1]])\n"
   ]
  },
  {
   "cell_type": "code",
   "execution_count": null,
   "metadata": {},
   "outputs": [],
   "source": [
    "print(np.sort(a,axis=-1))\n",
    "print(np.sort(a,axis=0))\n",
    "print(np.sort(a,axis=1))\n",
    "print(np.sort(a,axis=None))\n",
    "print(np.sort(a,axis=2))"
   ]
  },
  {
   "cell_type": "code",
   "execution_count": 3,
   "metadata": {},
   "outputs": [
    {
     "data": {
      "text/plain": [
       "array([4, 4, 1, 2, 3, 4, 5, 6, 6, 6])"
      ]
     },
     "execution_count": 3,
     "metadata": {},
     "output_type": "execute_result"
    }
   ],
   "source": [
    "a = [1, 2, 3, 4, 5]\n",
    "np.pad(a, (2, 3), 'constant', constant_values=(4, 6))"
   ]
  },
  {
   "cell_type": "code",
   "execution_count": 4,
   "metadata": {},
   "outputs": [
    {
     "data": {
      "text/plain": [
       "array([1, 1, 1, 2, 3, 4, 5, 5, 5, 5])"
      ]
     },
     "execution_count": 4,
     "metadata": {},
     "output_type": "execute_result"
    }
   ],
   "source": [
    "np.pad(a, (2, 3), 'edge')"
   ]
  },
  {
   "cell_type": "code",
   "execution_count": 10,
   "metadata": {},
   "outputs": [
    {
     "name": "stdout",
     "output_type": "stream",
     "text": [
      "[[2]\n",
      " [0]\n",
      " [2]\n",
      " [1]\n",
      " [0]\n",
      " [2]\n",
      " [4]\n",
      " [0]\n",
      " [2]\n",
      " [3]]\n",
      "[[0]\n",
      " [0]\n",
      " [0]\n",
      " [1]\n",
      " [2]\n",
      " [2]\n",
      " [2]\n",
      " [2]\n",
      " [3]\n",
      " [4]]\n"
     ]
    }
   ],
   "source": [
    "p = np.random.randint(5, size=(10, 1))\n",
    "# print(p.shape)\n",
    "print(p)\n",
    "# print(np.sort(p,axis=-1))\n",
    "print(np.sort(p,axis=0))\n",
    "# print(np.sort(p,axis=1))\n",
    "\n"
   ]
  }
 ],
 "metadata": {
  "kernelspec": {
   "display_name": "Python 3",
   "language": "python",
   "name": "python3"
  },
  "language_info": {
   "codemirror_mode": {
    "name": "ipython",
    "version": 3
   },
   "file_extension": ".py",
   "mimetype": "text/x-python",
   "name": "python",
   "nbconvert_exporter": "python",
   "pygments_lexer": "ipython3",
   "version": "3.11.5"
  }
 },
 "nbformat": 4,
 "nbformat_minor": 2
}
