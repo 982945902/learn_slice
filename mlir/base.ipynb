{
 "cells": [
  {
   "cell_type": "code",
   "execution_count": 1,
   "metadata": {},
   "outputs": [],
   "source": [
    "import mlir"
   ]
  },
  {
   "cell_type": "code",
   "execution_count": 4,
   "metadata": {},
   "outputs": [
    {
     "name": "stdout",
     "output_type": "stream",
     "text": [
      "tensor(5)\n"
     ]
    }
   ],
   "source": [
    "import torch\n",
    "from torch import jit\n",
    "\n",
    "@torch.jit.script\n",
    "def generate_code(input_tensor):\n",
    "    # 在这里编写生成Python代码的逻辑\n",
    "    # code = \"\"\n",
    "    # for i in range(input_tensor):\n",
    "    #     code += f\"print('This is line {i}')\\n\"\n",
    "    return input_tensor\n",
    "\n",
    "# 创建输入张量\n",
    "input_tensor = torch.tensor(5)\n",
    "\n",
    "# 调用脚本函数生成代码\n",
    "generated_code = generate_code(input_tensor)\n",
    "\n",
    "# 打印生成的Python代码\n",
    "print(generated_code)"
   ]
  }
 ],
 "metadata": {
  "kernelspec": {
   "display_name": "Python 3",
   "language": "python",
   "name": "python3"
  },
  "language_info": {
   "codemirror_mode": {
    "name": "ipython",
    "version": 3
   },
   "file_extension": ".py",
   "mimetype": "text/x-python",
   "name": "python",
   "nbconvert_exporter": "python",
   "pygments_lexer": "ipython3",
   "version": "3.11.5"
  }
 },
 "nbformat": 4,
 "nbformat_minor": 2
}
