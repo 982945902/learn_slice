{
 "cells": [
  {
   "cell_type": "code",
   "execution_count": 1,
   "metadata": {},
   "outputs": [
    {
     "data": {
      "text/plain": [
       "False"
      ]
     },
     "execution_count": 1,
     "metadata": {},
     "output_type": "execute_result"
    }
   ],
   "source": [
    "from tree_sitter import Language\n",
    "\n",
    "Language.build_library(\n",
    "    # Store the library in the `build` directory\n",
    "    \"build/my-languages.so\",\n",
    "    # Include one or more languages\n",
    "    [\"vendor/tree-sitter-go\", \"vendor/tree-sitter-javascript\", \"vendor/tree-sitter-python\"],\n",
    ")"
   ]
  },
  {
   "cell_type": "code",
   "execution_count": 2,
   "metadata": {},
   "outputs": [],
   "source": [
    "GO_LANGUAGE = Language(\"build/my-languages.so\", \"go\")\n",
    "JS_LANGUAGE = Language(\"build/my-languages.so\", \"javascript\")\n",
    "PY_LANGUAGE = Language(\"build/my-languages.so\", \"python\")"
   ]
  },
  {
   "cell_type": "code",
   "execution_count": 3,
   "metadata": {},
   "outputs": [],
   "source": [
    "from tree_sitter import Parser\n",
    "\n",
    "parser = Parser()\n",
    "parser.set_language(PY_LANGUAGE)"
   ]
  },
  {
   "cell_type": "code",
   "execution_count": 17,
   "metadata": {},
   "outputs": [],
   "source": [
    "tree = parser.parse(\n",
    "    bytes(\n",
    "        \"\"\"\n",
    "def foo():\n",
    "    if bar:\n",
    "        baz()\n",
    "\"\"\",\n",
    "        \"utf8\",\n",
    "    )\n",
    ")"
   ]
  },
  {
   "cell_type": "code",
   "execution_count": null,
   "metadata": {},
   "outputs": [],
   "source": [
    "root_node = tree.root_node\n",
    "print(root_node.text)\n",
    "assert root_node.type == 'module'\n",
    "print(\"root_node:\",root_node)\n",
    "# assert root_node.start_point == (1, 0)\n",
    "# assert root_node.end_point == (3, 13)\n",
    "\n",
    "function_node = root_node.children[0]\n",
    "print(\"function_node:\",function_node)\n",
    "assert function_node.type == 'function_definition'\n",
    "print(\"debug\",function_node.children[1].type,function_node.children[1].text,function_node.children[1].children)\n",
    "assert function_node.child_by_field_name('name').type == 'identifier'\n",
    "\n",
    "function_name_node = function_node.children[1]\n",
    "print(\"function_name_node\",function_name_node)\n",
    "assert function_name_node.type == 'identifier'\n",
    "assert function_name_node.start_point == (1, 4)\n",
    "assert function_name_node.end_point == (1, 7)\n",
    "\n",
    "print(root_node.sexp())"
   ]
  },
  {
   "cell_type": "code",
   "execution_count": null,
   "metadata": {},
   "outputs": [],
   "source": [
    "cursor = tree.walk()\n",
    "\n",
    "assert cursor.node.type == \"module\"\n",
    "\n",
    "assert cursor.goto_first_child()\n",
    "assert cursor.node.type == \"function_definition\"\n",
    "\n",
    "assert cursor.goto_first_child()\n",
    "assert cursor.node.type == \"def\"\n",
    "\n",
    "# Returns `False` because the `def` node has no children\n",
    "assert not cursor.goto_first_child()\n",
    "\n",
    "assert cursor.goto_next_sibling()\n",
    "assert cursor.node.type == \"identifier\"\n",
    "\n",
    "assert cursor.goto_next_sibling()\n",
    "assert cursor.node.type == \"parameters\"\n",
    "\n",
    "assert cursor.goto_parent()\n",
    "assert cursor.node.type == \"function_definition\""
   ]
  },
  {
   "cell_type": "code",
   "execution_count": 25,
   "metadata": {},
   "outputs": [
    {
     "name": "stdout",
     "output_type": "stream",
     "text": [
      "b'foo'\n"
     ]
    }
   ],
   "source": [
    "query = PY_LANGUAGE.query(\n",
    "    \"\"\"\n",
    "(function_definition\n",
    "  name: (identifier) @function.def)\n",
    "\n",
    "(call\n",
    "  function: (identifier) @function.call)\n",
    "\"\"\"\n",
    ")\n",
    "\n",
    "captures = query.captures(tree.root_node)\n",
    "assert len(captures) == 2\n",
    "print(captures[0][0].text)\n",
    "# assert captures[0][0] == \"function_name_node\"\n",
    "assert captures[0][1] == \"function.def\""
   ]
  },
  {
   "cell_type": "code",
   "execution_count": 16,
   "metadata": {},
   "outputs": [
    {
     "name": "stdout",
     "output_type": "stream",
     "text": [
      "b'\\ndef foo():\\n    if bar:\\n        baz()\\n'\n",
      "None\n"
     ]
    }
   ],
   "source": [
    "print(tree.text)\n",
    "\n",
    "tree.edit(\n",
    "    start_byte=5,\n",
    "    old_end_byte=5,\n",
    "    new_end_byte=5 + 2,\n",
    "    start_point=(0, 5),\n",
    "    old_end_point=(0, 5),\n",
    "    new_end_point=(0, 5 + 2),\n",
    ")\n",
    "\n",
    "print(tree.text)"
   ]
  },
  {
   "cell_type": "code",
   "execution_count": 9,
   "metadata": {},
   "outputs": [
    {
     "name": "stdout",
     "output_type": "stream",
     "text": [
      "None\n"
     ]
    },
    {
     "ename": "TypeError",
     "evalue": "cannot convert 'NoneType' object to bytes",
     "output_type": "error",
     "traceback": [
      "\u001b[0;31m---------------------------------------------------------------------------\u001b[0m",
      "\u001b[0;31mTypeError\u001b[0m                                 Traceback (most recent call last)",
      "Cell \u001b[0;32mIn[9], line 2\u001b[0m\n\u001b[1;32m      1\u001b[0m \u001b[38;5;28mprint\u001b[39m(tree\u001b[38;5;241m.\u001b[39mtext)\n\u001b[0;32m----> 2\u001b[0m new_tree \u001b[38;5;241m=\u001b[39m parser\u001b[38;5;241m.\u001b[39mparse(\u001b[38;5;28;43mbytes\u001b[39;49m\u001b[43m(\u001b[49m\u001b[43mtree\u001b[49m\u001b[38;5;241;43m.\u001b[39;49m\u001b[43mtext\u001b[49m\u001b[43m)\u001b[49m, old_tree\u001b[38;5;241m=\u001b[39mtree)\n\u001b[1;32m      3\u001b[0m \u001b[38;5;28mprint\u001b[39m(new_tree\u001b[38;5;241m.\u001b[39mtext)\n",
      "\u001b[0;31mTypeError\u001b[0m: cannot convert 'NoneType' object to bytes"
     ]
    }
   ],
   "source": [
    "\n",
    "new_tree = parser.parse(bytes(tree.text), old_tree=tree)\n",
    "print(new_tree.text)\n"
   ]
  }
 ],
 "metadata": {
  "kernelspec": {
   "display_name": "Python 3",
   "language": "python",
   "name": "python3"
  },
  "language_info": {
   "codemirror_mode": {
    "name": "ipython",
    "version": 3
   },
   "file_extension": ".py",
   "mimetype": "text/x-python",
   "name": "python",
   "nbconvert_exporter": "python",
   "pygments_lexer": "ipython3",
   "version": "3.11.5"
  }
 },
 "nbformat": 4,
 "nbformat_minor": 2
}
