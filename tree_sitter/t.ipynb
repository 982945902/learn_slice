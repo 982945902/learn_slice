{
 "cells": [
  {
   "cell_type": "code",
   "execution_count": 3,
   "metadata": {},
   "outputs": [
    {
     "ename": "TypeError",
     "evalue": "can't concat str to bytes",
     "output_type": "error",
     "traceback": [
      "\u001b[0;31m---------------------------------------------------------------------------\u001b[0m",
      "\u001b[0;31mTypeError\u001b[0m                                 Traceback (most recent call last)",
      "Cell \u001b[0;32mIn[3], line 46\u001b[0m\n\u001b[1;32m     43\u001b[0m     \u001b[38;5;28;01mreturn\u001b[39;00m result\n\u001b[1;32m     45\u001b[0m \u001b[38;5;66;03m# 生成 Python 代码\u001b[39;00m\n\u001b[0;32m---> 46\u001b[0m generated_code \u001b[38;5;241m=\u001b[39m \u001b[43mgenerate_python_code\u001b[49m\u001b[43m(\u001b[49m\u001b[43mtree\u001b[49m\u001b[38;5;241;43m.\u001b[39;49m\u001b[43mroot_node\u001b[49m\u001b[43m)\u001b[49m\n\u001b[1;32m     47\u001b[0m \u001b[38;5;28mprint\u001b[39m(generated_code)\n",
      "Cell \u001b[0;32mIn[3], line 41\u001b[0m, in \u001b[0;36mgenerate_python_code\u001b[0;34m(node, indent)\u001b[0m\n\u001b[1;32m     39\u001b[0m         result \u001b[38;5;241m+\u001b[39m\u001b[38;5;241m=\u001b[39m \u001b[38;5;124m'\u001b[39m\u001b[38;5;124m \u001b[39m\u001b[38;5;124m'\u001b[39m \u001b[38;5;241m*\u001b[39m (indent \u001b[38;5;241m+\u001b[39m \u001b[38;5;241m4\u001b[39m) \u001b[38;5;241m+\u001b[39m \u001b[38;5;124m'\u001b[39m\u001b[38;5;124mreturn \u001b[39m\u001b[38;5;124m'\u001b[39m \u001b[38;5;241m+\u001b[39m child\u001b[38;5;241m.\u001b[39mchild_by_field_name(\u001b[38;5;124m'\u001b[39m\u001b[38;5;124mexpression\u001b[39m\u001b[38;5;124m'\u001b[39m)\u001b[38;5;241m.\u001b[39mtext \u001b[38;5;241m+\u001b[39m \u001b[38;5;124m'\u001b[39m\u001b[38;5;130;01m\\n\u001b[39;00m\u001b[38;5;124m'\u001b[39m\n\u001b[1;32m     40\u001b[0m     \u001b[38;5;28;01melse\u001b[39;00m:\n\u001b[0;32m---> 41\u001b[0m         result \u001b[38;5;241m+\u001b[39m\u001b[38;5;241m=\u001b[39m \u001b[43mchild\u001b[49m\u001b[38;5;241;43m.\u001b[39;49m\u001b[43mtext\u001b[49m\u001b[43m \u001b[49m\u001b[38;5;241;43m+\u001b[39;49m\u001b[43m \u001b[49m\u001b[38;5;124;43m'\u001b[39;49m\u001b[38;5;130;43;01m\\n\u001b[39;49;00m\u001b[38;5;124;43m'\u001b[39;49m\n\u001b[1;32m     42\u001b[0m     result \u001b[38;5;241m+\u001b[39m\u001b[38;5;241m=\u001b[39m generate_python_code(child, indent)\n\u001b[1;32m     43\u001b[0m \u001b[38;5;28;01mreturn\u001b[39;00m result\n",
      "\u001b[0;31mTypeError\u001b[0m: can't concat str to bytes"
     ]
    }
   ],
   "source": [
    "import os\n",
    "import tree_sitter\n",
    "from tree_sitter import Language\n",
    "\n",
    "# 加载Tree-sitter的Python语言解析器\n",
    "Language.build_library(\n",
    "    # Store the library in the `build` directory\n",
    "    \"build/my-languages.so\",\n",
    "    # Include one or more languages\n",
    "    [\"vendor/tree-sitter-go\", \"vendor/tree-sitter-javascript\", \"vendor/tree-sitter-python\"],\n",
    ")\n",
    "PYTHON_LANGUAGE = Language(\"build/my-languages.so\", \"python\")\n",
    "\n",
    "# 读取 Python 代码文件\n",
    "with open('t.py', 'r') as file:\n",
    "    python_code = file.read()\n",
    "\n",
    "# 创建 Tree-sitter 解析器\n",
    "parser = tree_sitter.Parser()\n",
    "\n",
    "parser.set_language(PYTHON_LANGUAGE)\n",
    "\n",
    "# 解析 Python 代码\n",
    "tree = parser.parse(bytes(python_code, 'utf8'))\n",
    "\n",
    "# 遍历解析树，生成 Python 代码\n",
    "def generate_python_code(node, indent=0):\n",
    "    result = ''\n",
    "    for child in node.children:\n",
    "        result += ' ' * indent\n",
    "        if child.type == 'function_definition':\n",
    "            result += 'def ' + child.child_by_field_name('name').text\n",
    "            result += '():\\n'\n",
    "            result += generate_python_code(child, indent + 4)\n",
    "        elif child.type == 'if_statement':\n",
    "            result += 'if ' + child.child_by_field_name('condition').text\n",
    "            result += ':\\n'\n",
    "            result += generate_python_code(child, indent + 4)\n",
    "        elif child.type == 'return_statement':\n",
    "            result += ' ' * (indent + 4) + 'return ' + child.child_by_field_name('expression').text + '\\n'\n",
    "        else:\n",
    "            result += child.text + '\\n'\n",
    "        result += generate_python_code(child, indent)\n",
    "    return result\n",
    "\n",
    "# 生成 Python 代码\n",
    "generated_code = generate_python_code(tree.root_node)\n",
    "print(generated_code)"
   ]
  }
 ],
 "metadata": {
  "kernelspec": {
   "display_name": "Python 3",
   "language": "python",
   "name": "python3"
  },
  "language_info": {
   "codemirror_mode": {
    "name": "ipython",
    "version": 3
   },
   "file_extension": ".py",
   "mimetype": "text/x-python",
   "name": "python",
   "nbconvert_exporter": "python",
   "pygments_lexer": "ipython3",
   "version": "3.11.5"
  }
 },
 "nbformat": 4,
 "nbformat_minor": 2
}
