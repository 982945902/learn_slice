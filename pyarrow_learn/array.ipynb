{
 "cells": [
  {
   "cell_type": "code",
   "execution_count": 2,
   "metadata": {},
   "outputs": [
    {
     "name": "stdout",
     "output_type": "stream",
     "text": [
      "1\n"
     ]
    }
   ],
   "source": [
    "import pyarrow as pa\n",
    "\n",
    "arr = pa.array([1,2,3])\n",
    "print(arr[0])"
   ]
  },
  {
   "cell_type": "code",
   "execution_count": 3,
   "metadata": {},
   "outputs": [
    {
     "name": "stdout",
     "output_type": "stream",
     "text": [
      "b'z\\x88b\\x7f\\xf0Ai\\x81\\x0eF\\xdbp\\xc6\\xcc\\xb52\\xfe\\xd4\\x14\\x80YOn\\x93\\x889\\x08o\\xa2\\xcb\\x95M'\n"
     ]
    }
   ],
   "source": [
    "import os\n",
    "arr = pa.array([os.urandom(32) for _ in range(10)])\n",
    "print(arr[0])"
   ]
  }
 ],
 "metadata": {
  "kernelspec": {
   "display_name": "Python 3",
   "language": "python",
   "name": "python3"
  },
  "language_info": {
   "codemirror_mode": {
    "name": "ipython",
    "version": 3
   },
   "file_extension": ".py",
   "mimetype": "text/x-python",
   "name": "python",
   "nbconvert_exporter": "python",
   "pygments_lexer": "ipython3",
   "version": "3.11.5"
  }
 },
 "nbformat": 4,
 "nbformat_minor": 2
}
