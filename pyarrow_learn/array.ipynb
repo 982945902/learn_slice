{
 "cells": [
  {
   "cell_type": "code",
   "execution_count": 1,
   "metadata": {},
   "outputs": [
    {
     "name": "stdout",
     "output_type": "stream",
     "text": [
      "1\n"
     ]
    }
   ],
   "source": [
    "import pyarrow as pa\n",
    "\n",
    "arr = pa.array([1,2,3])\n",
    "print(arr[0])"
   ]
  },
  {
   "cell_type": "code",
   "execution_count": 5,
   "metadata": {},
   "outputs": [
    {
     "name": "stdout",
     "output_type": "stream",
     "text": [
      "1\n",
      "2\n",
      "3\n",
      "[\n",
      "  2\n",
      "]\n"
     ]
    },
    {
     "ename": "AttributeError",
     "evalue": "'pyarrow.lib.Int64Array' object has no attribute 'append'",
     "output_type": "error",
     "traceback": [
      "\u001b[0;31m---------------------------------------------------------------------------\u001b[0m",
      "\u001b[0;31mAttributeError\u001b[0m                            Traceback (most recent call last)",
      "\u001b[1;32m/Users/lishuo121/workspace/learn_slice/pyarrow_learn/array.ipynb 单元格 2\u001b[0m line \u001b[0;36m4\n\u001b[1;32m      <a href='vscode-notebook-cell:/Users/lishuo121/workspace/learn_slice/pyarrow_learn/array.ipynb#W2sZmlsZQ%3D%3D?line=1'>2</a>\u001b[0m     \u001b[39mprint\u001b[39m(arr[i])\n\u001b[1;32m      <a href='vscode-notebook-cell:/Users/lishuo121/workspace/learn_slice/pyarrow_learn/array.ipynb#W2sZmlsZQ%3D%3D?line=2'>3</a>\u001b[0m \u001b[39mprint\u001b[39m(arr[\u001b[39m1\u001b[39m:\u001b[39m2\u001b[39m])\n\u001b[0;32m----> <a href='vscode-notebook-cell:/Users/lishuo121/workspace/learn_slice/pyarrow_learn/array.ipynb#W2sZmlsZQ%3D%3D?line=3'>4</a>\u001b[0m arr\u001b[39m.\u001b[39;49mappend(\u001b[39m1\u001b[39m)\n",
      "\u001b[0;31mAttributeError\u001b[0m: 'pyarrow.lib.Int64Array' object has no attribute 'append'"
     ]
    }
   ],
   "source": [
    "for i in range(len(arr)):\n",
    "    print(arr[i])\n",
    "print(arr[1:2])\n",
    "arr.append(1)"
   ]
  },
  {
   "cell_type": "code",
   "execution_count": 14,
   "metadata": {},
   "outputs": [
    {
     "name": "stdout",
     "output_type": "stream",
     "text": [
      "pyarrow.RecordBatch\n",
      "column1: int64\n",
      "column2: string\n"
     ]
    },
    {
     "name": "stderr",
     "output_type": "stream",
     "text": [
      "/var/folders/y5/ssh5ylsd4tv7wfmm_06fmrqw0000gp/T/ipykernel_1693/2689482052.py:10: FutureWarning: Schema passed to names= option, please pass schema= explicitly. Will raise exception in future\n",
      "  record_batch = pa.RecordBatch.from_arrays(data, schema)\n"
     ]
    }
   ],
   "source": [
    "import pyarrow as pa\n",
    "\n",
    "# 创建一个RecordBatch\n",
    "fields = [pa.field('column1', pa.int64()), pa.field('column2', pa.string())]\n",
    "schema = pa.schema(fields)\n",
    "data = [\n",
    "    pa.array([1, 2, 3]),\n",
    "    pa.array(['a', 'b', 'c'])\n",
    "]\n",
    "record_batch = pa.RecordBatch.from_arrays(data, schema)\n",
    "\n",
    "# 创建一个空的list作为索引\n",
    "indices = pa.array([],type=pa.int32())\n",
    "\n",
    "# 使用take函数，传入空的list作为索引\n",
    "taken_batch = record_batch.take(pa.array(indices))\n",
    "\n",
    "print(taken_batch)\n"
   ]
  },
  {
   "cell_type": "code",
   "execution_count": 15,
   "metadata": {},
   "outputs": [
    {
     "name": "stdout",
     "output_type": "stream",
     "text": [
      "pyarrow.RecordBatch\n",
      "column1: int64\n",
      "column2: string\n"
     ]
    },
    {
     "name": "stderr",
     "output_type": "stream",
     "text": [
      "/var/folders/y5/ssh5ylsd4tv7wfmm_06fmrqw0000gp/T/ipykernel_1693/1172896231.py:10: FutureWarning: Schema passed to names= option, please pass schema= explicitly. Will raise exception in future\n",
      "  record_batch = pa.RecordBatch.from_arrays(data, schema)\n"
     ]
    }
   ],
   "source": [
    "import pyarrow as pa\n",
    "\n",
    "# 创建一个RecordBatch\n",
    "fields = [pa.field('column1', pa.int64()), pa.field('column2', pa.string())]\n",
    "schema = pa.schema(fields)\n",
    "data = [\n",
    "    pa.array([]),\n",
    "    pa.array([])\n",
    "]\n",
    "record_batch = pa.RecordBatch.from_arrays(data, schema)\n",
    "\n",
    "# 创建一个空的list作为索引\n",
    "indices = pa.array([],type=pa.int32())\n",
    "\n",
    "# 使用take函数，传入空的list作为索引\n",
    "taken_batch = record_batch.take(pa.array(indices))\n",
    "\n",
    "print(taken_batch)\n"
   ]
  },
  {
   "cell_type": "code",
   "execution_count": 3,
   "metadata": {},
   "outputs": [
    {
     "name": "stdout",
     "output_type": "stream",
     "text": [
      "b'z\\x88b\\x7f\\xf0Ai\\x81\\x0eF\\xdbp\\xc6\\xcc\\xb52\\xfe\\xd4\\x14\\x80YOn\\x93\\x889\\x08o\\xa2\\xcb\\x95M'\n"
     ]
    }
   ],
   "source": [
    "import os\n",
    "arr = pa.array([os.urandom(32) for _ in range(10)])\n",
    "print(arr[0])"
   ]
  }
 ],
 "metadata": {
  "kernelspec": {
   "display_name": "Python 3",
   "language": "python",
   "name": "python3"
  },
  "language_info": {
   "codemirror_mode": {
    "name": "ipython",
    "version": 3
   },
   "file_extension": ".py",
   "mimetype": "text/x-python",
   "name": "python",
   "nbconvert_exporter": "python",
   "pygments_lexer": "ipython3",
   "version": "3.11.5"
  }
 },
 "nbformat": 4,
 "nbformat_minor": 2
}
