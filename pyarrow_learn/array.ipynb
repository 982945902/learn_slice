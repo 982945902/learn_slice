{
 "cells": [
  {
   "cell_type": "code",
   "execution_count": 1,
   "metadata": {},
   "outputs": [
    {
     "name": "stdout",
     "output_type": "stream",
     "text": [
      "1\n"
     ]
    }
   ],
   "source": [
    "import pyarrow as pa\n",
    "\n",
    "arr = pa.array([1,2,3])\n",
    "print(arr[0])"
   ]
  },
  {
   "cell_type": "code",
   "execution_count": 5,
   "metadata": {},
   "outputs": [
    {
     "name": "stdout",
     "output_type": "stream",
     "text": [
      "1\n",
      "2\n",
      "3\n",
      "[\n",
      "  2\n",
      "]\n"
     ]
    },
    {
     "ename": "AttributeError",
     "evalue": "'pyarrow.lib.Int64Array' object has no attribute 'append'",
     "output_type": "error",
     "traceback": [
      "\u001b[0;31m---------------------------------------------------------------------------\u001b[0m",
      "\u001b[0;31mAttributeError\u001b[0m                            Traceback (most recent call last)",
      "\u001b[1;32m/Users/lishuo121/workspace/learn_slice/pyarrow_learn/array.ipynb 单元格 2\u001b[0m line \u001b[0;36m4\n\u001b[1;32m      <a href='vscode-notebook-cell:/Users/lishuo121/workspace/learn_slice/pyarrow_learn/array.ipynb#W2sZmlsZQ%3D%3D?line=1'>2</a>\u001b[0m     \u001b[39mprint\u001b[39m(arr[i])\n\u001b[1;32m      <a href='vscode-notebook-cell:/Users/lishuo121/workspace/learn_slice/pyarrow_learn/array.ipynb#W2sZmlsZQ%3D%3D?line=2'>3</a>\u001b[0m \u001b[39mprint\u001b[39m(arr[\u001b[39m1\u001b[39m:\u001b[39m2\u001b[39m])\n\u001b[0;32m----> <a href='vscode-notebook-cell:/Users/lishuo121/workspace/learn_slice/pyarrow_learn/array.ipynb#W2sZmlsZQ%3D%3D?line=3'>4</a>\u001b[0m arr\u001b[39m.\u001b[39;49mappend(\u001b[39m1\u001b[39m)\n",
      "\u001b[0;31mAttributeError\u001b[0m: 'pyarrow.lib.Int64Array' object has no attribute 'append'"
     ]
    }
   ],
   "source": [
    "for i in range(len(arr)):\n",
    "    print(arr[i])\n",
    "print(arr[1:2])\n",
    "arr.append(1)"
   ]
  },
  {
   "cell_type": "code",
   "execution_count": 8,
   "metadata": {},
   "outputs": [
    {
     "name": "stdout",
     "output_type": "stream",
     "text": [
      "pyarrow.RecordBatch\n",
      "column1: int64\n",
      "column2: string\n",
      "   column1 column2\n",
      "0        1       a\n",
      "1        2       b\n",
      "2        3       c\n"
     ]
    },
    {
     "name": "stderr",
     "output_type": "stream",
     "text": [
      "/var/folders/y5/ssh5ylsd4tv7wfmm_06fmrqw0000gp/T/ipykernel_4284/19296591.py:10: FutureWarning: Schema passed to names= option, please pass schema= explicitly. Will raise exception in future\n",
      "  record_batch = pa.RecordBatch.from_arrays(data, schema)\n"
     ]
    }
   ],
   "source": [
    "import pyarrow as pa\n",
    "\n",
    "# 创建一个RecordBatch\n",
    "fields = [pa.field('column1', pa.int64()), pa.field('column2', pa.string())]\n",
    "schema = pa.schema(fields)\n",
    "data = [\n",
    "    pa.array([1, 2, 3]),\n",
    "    pa.array(['a', 'b', 'c'])\n",
    "]\n",
    "record_batch = pa.RecordBatch.from_arrays(data, schema)\n",
    "\n",
    "# 创建一个空的list作为索引\n",
    "indices = pa.array([],type=pa.int32())\n",
    "\n",
    "# 使用take函数，传入空的list作为索引\n",
    "taken_batch = record_batch.take(pa.array(indices))\n",
    "\n",
    "print(taken_batch)\n",
    "\n",
    "print(record_batch.slice(0,100).to_pandas())\n"
   ]
  },
  {
   "cell_type": "code",
   "execution_count": 15,
   "metadata": {},
   "outputs": [
    {
     "name": "stdout",
     "output_type": "stream",
     "text": [
      "pyarrow.RecordBatch\n",
      "column1: int64\n",
      "column2: string\n"
     ]
    },
    {
     "name": "stderr",
     "output_type": "stream",
     "text": [
      "/var/folders/y5/ssh5ylsd4tv7wfmm_06fmrqw0000gp/T/ipykernel_1693/1172896231.py:10: FutureWarning: Schema passed to names= option, please pass schema= explicitly. Will raise exception in future\n",
      "  record_batch = pa.RecordBatch.from_arrays(data, schema)\n"
     ]
    }
   ],
   "source": [
    "import pyarrow as pa\n",
    "\n",
    "# 创建一个RecordBatch\n",
    "fields = [pa.field('column1', pa.int64()), pa.field('column2', pa.string())]\n",
    "schema = pa.schema(fields)\n",
    "data = [\n",
    "    pa.array([]),\n",
    "    pa.array([])\n",
    "]\n",
    "record_batch = pa.RecordBatch.from_arrays(data, schema)\n",
    "\n",
    "# 创建一个空的list作为索引\n",
    "indices = pa.array([],type=pa.int32())\n",
    "\n",
    "# 使用take函数，传入空的list作为索引\n",
    "taken_batch = record_batch.take(pa.array(indices))\n",
    "\n",
    "print(taken_batch)\n"
   ]
  },
  {
   "cell_type": "code",
   "execution_count": 3,
   "metadata": {},
   "outputs": [
    {
     "name": "stdout",
     "output_type": "stream",
     "text": [
      "b'z\\x88b\\x7f\\xf0Ai\\x81\\x0eF\\xdbp\\xc6\\xcc\\xb52\\xfe\\xd4\\x14\\x80YOn\\x93\\x889\\x08o\\xa2\\xcb\\x95M'\n"
     ]
    }
   ],
   "source": [
    "import os\n",
    "arr = pa.array([os.urandom(32) for _ in range(10)])\n",
    "print(arr[0])"
   ]
  },
  {
   "cell_type": "code",
   "execution_count": 1,
   "metadata": {},
   "outputs": [
    {
     "ename": "AttributeError",
     "evalue": "'pyarrow.lib.MemoryPool' object has no attribute 'current_size'",
     "output_type": "error",
     "traceback": [
      "\u001b[0;31m---------------------------------------------------------------------------\u001b[0m",
      "\u001b[0;31mAttributeError\u001b[0m                            Traceback (most recent call last)",
      "Cell \u001b[0;32mIn[1], line 13\u001b[0m\n\u001b[1;32m     10\u001b[0m size \u001b[38;5;241m=\u001b[39m arr\u001b[38;5;241m.\u001b[39mnbytes\n\u001b[1;32m     12\u001b[0m \u001b[38;5;66;03m# 打印内存池的当前大小\u001b[39;00m\n\u001b[0;32m---> 13\u001b[0m \u001b[38;5;28mprint\u001b[39m(\u001b[38;5;124mf\u001b[39m\u001b[38;5;124m\"\u001b[39m\u001b[38;5;124mMemory pool size: \u001b[39m\u001b[38;5;132;01m{\u001b[39;00m\u001b[43mpool\u001b[49m\u001b[38;5;241;43m.\u001b[39;49m\u001b[43mcurrent_size\u001b[49m\u001b[38;5;132;01m}\u001b[39;00m\u001b[38;5;124m bytes\u001b[39m\u001b[38;5;124m\"\u001b[39m)\n\u001b[1;32m     15\u001b[0m \u001b[38;5;66;03m# 打印数组占用的内存大小\u001b[39;00m\n\u001b[1;32m     16\u001b[0m \u001b[38;5;28mprint\u001b[39m(\u001b[38;5;124mf\u001b[39m\u001b[38;5;124m\"\u001b[39m\u001b[38;5;124mArray size: \u001b[39m\u001b[38;5;132;01m{\u001b[39;00msize\u001b[38;5;132;01m}\u001b[39;00m\u001b[38;5;124m bytes\u001b[39m\u001b[38;5;124m\"\u001b[39m)\n",
      "\u001b[0;31mAttributeError\u001b[0m: 'pyarrow.lib.MemoryPool' object has no attribute 'current_size'"
     ]
    }
   ],
   "source": [
    "\n",
    "import pyarrow as pa\n",
    "\n",
    "# 创建一个内存池\n",
    "pool = pa.default_memory_pool()\n",
    "\n",
    "# 创建一个包含 1000 个整数的 PyArrow 数组\n",
    "arr = pa.array([i for i in range(1000)], type=pa.int64())\n",
    "\n",
    "# 获取数组使用的内存大小\n",
    "size = arr.nbytes\n",
    "\n",
    "# 打印内存池的当前大小\n",
    "print(f\"Memory pool size: {pool.current_size} bytes\")\n",
    "\n",
    "# 打印数组占用的内存大小\n",
    "print(f\"Array size: {size} bytes\")\n",
    "\n",
    "# 释放内存池中的内存\n",
    "pool.reset()\n",
    "\n",
    "# 再次打印内存池的当前大小\n",
    "print(f\"Memory pool size after reset: {pool.current_size} bytes\")\n"
   ]
  },
  {
   "cell_type": "code",
   "execution_count": 3,
   "metadata": {},
   "outputs": [
    {
     "ename": "TypeError",
     "evalue": "Argument 'types' has incorrect type (expected pyarrow.lib.Array, got list)",
     "output_type": "error",
     "traceback": [
      "\u001b[0;31m---------------------------------------------------------------------------\u001b[0m",
      "\u001b[0;31mTypeError\u001b[0m                                 Traceback (most recent call last)",
      "Cell \u001b[0;32mIn[3], line 15\u001b[0m\n\u001b[1;32m      4\u001b[0m fields \u001b[38;5;241m=\u001b[39m [\n\u001b[1;32m      5\u001b[0m     pa\u001b[38;5;241m.\u001b[39mfield(\u001b[38;5;124m\"\u001b[39m\u001b[38;5;124mtag\u001b[39m\u001b[38;5;124m\"\u001b[39m, pa\u001b[38;5;241m.\u001b[39mint8()),  \u001b[38;5;66;03m# 标签字段，用于指定值的类型\u001b[39;00m\n\u001b[1;32m      6\u001b[0m     pa\u001b[38;5;241m.\u001b[39mfield(\u001b[38;5;124m\"\u001b[39m\u001b[38;5;124mvalue\u001b[39m\u001b[38;5;124m\"\u001b[39m, pa\u001b[38;5;241m.\u001b[39mint64()),  \u001b[38;5;66;03m# 第一个值字段，可以是整数\u001b[39;00m\n\u001b[1;32m      7\u001b[0m     pa\u001b[38;5;241m.\u001b[39mfield(\u001b[38;5;124m\"\u001b[39m\u001b[38;5;124mvalue\u001b[39m\u001b[38;5;124m\"\u001b[39m, pa\u001b[38;5;241m.\u001b[39mfloat64()),  \u001b[38;5;66;03m# 第二个值字段，可以是浮点数\u001b[39;00m\n\u001b[1;32m      8\u001b[0m     \u001b[38;5;66;03m# 可以添加更多字段来支持更多类型\u001b[39;00m\n\u001b[1;32m      9\u001b[0m ]\n\u001b[1;32m     11\u001b[0m \u001b[38;5;66;03m# 创建联合类型\u001b[39;00m\n\u001b[1;32m     12\u001b[0m \u001b[38;5;66;03m# union_type = pa.union_(fields, mode='dense')\u001b[39;00m\n\u001b[1;32m     13\u001b[0m \n\u001b[1;32m     14\u001b[0m \u001b[38;5;66;03m# 创建联合数组\u001b[39;00m\n\u001b[0;32m---> 15\u001b[0m union_array \u001b[38;5;241m=\u001b[39m \u001b[43mpa\u001b[49m\u001b[38;5;241;43m.\u001b[39;49m\u001b[43mUnionArray\u001b[49m\u001b[38;5;241;43m.\u001b[39;49m\u001b[43mfrom_sparse\u001b[49m\u001b[43m(\u001b[49m\n\u001b[1;32m     16\u001b[0m \u001b[43m    \u001b[49m\u001b[43mfields\u001b[49m\u001b[43m,\u001b[49m\n\u001b[1;32m     17\u001b[0m \u001b[43m    \u001b[49m\u001b[43m[\u001b[49m\u001b[38;5;241;43m0\u001b[39;49m\u001b[43m,\u001b[49m\u001b[43m \u001b[49m\u001b[38;5;241;43m1\u001b[39;49m\u001b[43m,\u001b[49m\u001b[43m \u001b[49m\u001b[38;5;241;43m0\u001b[39;49m\u001b[43m,\u001b[49m\u001b[43m \u001b[49m\u001b[38;5;241;43m1\u001b[39;49m\u001b[43m,\u001b[49m\u001b[43m \u001b[49m\u001b[38;5;241;43m0\u001b[39;49m\u001b[43m]\u001b[49m\u001b[43m,\u001b[49m\u001b[43m  \u001b[49m\u001b[38;5;66;43;03m# 标签数组，0 表示第一个字段，1 表示第二个字段\u001b[39;49;00m\n\u001b[1;32m     18\u001b[0m \u001b[43m    \u001b[49m\u001b[43m[\u001b[49m\u001b[38;5;241;43m1\u001b[39;49m\u001b[43m,\u001b[49m\u001b[43m \u001b[49m\u001b[38;5;241;43m2.2\u001b[39;49m\u001b[43m,\u001b[49m\u001b[43m \u001b[49m\u001b[38;5;241;43m3\u001b[39;49m\u001b[43m,\u001b[49m\u001b[43m \u001b[49m\u001b[38;5;241;43m4.4\u001b[39;49m\u001b[43m,\u001b[49m\u001b[43m \u001b[49m\u001b[38;5;241;43m5\u001b[39;49m\u001b[43m]\u001b[49m\u001b[43m,\u001b[49m\u001b[43m  \u001b[49m\u001b[38;5;66;43;03m# 值数组，对应于标签数组中的每个标签\u001b[39;49;00m\n\u001b[1;32m     19\u001b[0m \u001b[43m)\u001b[49m\n\u001b[1;32m     21\u001b[0m \u001b[38;5;28mprint\u001b[39m(union_array)\n",
      "\u001b[0;31mTypeError\u001b[0m: Argument 'types' has incorrect type (expected pyarrow.lib.Array, got list)"
     ]
    }
   ],
   "source": [
    "import pyarrow as pa\n",
    "\n",
    "# 定义联合类型的字段\n",
    "fields = [\n",
    "    pa.field(\"tag\", pa.int8()),  # 标签字段，用于指定值的类型\n",
    "    pa.field(\"value\", pa.int64()),  # 第一个值字段，可以是整数\n",
    "    pa.field(\"value\", pa.float64()),  # 第二个值字段，可以是浮点数\n",
    "    # 可以添加更多字段来支持更多类型\n",
    "]\n",
    "\n",
    "# 创建联合类型\n",
    "# union_type = pa.union_(fields, mode='dense')\n",
    "\n",
    "# 创建联合数组\n",
    "union_array = pa.UnionArray(\n",
    "    fields,\n",
    "    [0, 1, 0, 1, 0],  # 标签数组，0 表示第一个字段，1 表示第二个字段\n",
    "    [1, 2.2, 3, 4.4, 5],  # 值数组，对应于标签数组中的每个标签\n",
    ")\n",
    "\n",
    "print(union_array)"
   ]
  }
 ],
 "metadata": {
  "kernelspec": {
   "display_name": "Python 3",
   "language": "python",
   "name": "python3"
  },
  "language_info": {
   "codemirror_mode": {
    "name": "ipython",
    "version": 3
   },
   "file_extension": ".py",
   "mimetype": "text/x-python",
   "name": "python",
   "nbconvert_exporter": "python",
   "pygments_lexer": "ipython3",
   "version": "3.11.5"
  }
 },
 "nbformat": 4,
 "nbformat_minor": 2
}
