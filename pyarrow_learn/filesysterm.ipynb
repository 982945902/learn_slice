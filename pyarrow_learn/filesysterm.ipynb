{
 "cells": [
  {
   "cell_type": "code",
   "execution_count": 13,
   "metadata": {},
   "outputs": [
    {
     "name": "stdout",
     "output_type": "stream",
     "text": [
      "5550\n",
      "None\n"
     ]
    }
   ],
   "source": [
    "\n",
    "def get_data_size(url: str):\n",
    "    import pyarrow.fs as pafs\n",
    "    if \"://\" not in url:\n",
    "        fs = pafs.LocalFileSystem()\n",
    "        info = fs.get_file_info(url)\n",
    "    else:\n",
    "        fs, path = pafs.FileSystem.from_uri(url)\n",
    "        info = fs.get_file_info(path)\n",
    "\n",
    "    size = info.size if info.type == pafs.FileType.File else None\n",
    "    return size\n",
    "\n",
    "\n",
    "print(get_data_size(\"./array.ipynb\"))\n",
    "print(get_data_size(\"./test\"))"
   ]
  }
 ],
 "metadata": {
  "kernelspec": {
   "display_name": "Python 3",
   "language": "python",
   "name": "python3"
  },
  "language_info": {
   "codemirror_mode": {
    "name": "ipython",
    "version": 3
   },
   "file_extension": ".py",
   "mimetype": "text/x-python",
   "name": "python",
   "nbconvert_exporter": "python",
   "pygments_lexer": "ipython3",
   "version": "3.11.5"
  }
 },
 "nbformat": 4,
 "nbformat_minor": 2
}
