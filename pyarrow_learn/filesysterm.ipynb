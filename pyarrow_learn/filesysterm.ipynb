{
 "cells": [
  {
   "cell_type": "code",
   "execution_count": 13,
   "metadata": {},
   "outputs": [
    {
     "name": "stdout",
     "output_type": "stream",
     "text": [
      "5550\n",
      "None\n"
     ]
    }
   ],
   "source": [
    "\n",
    "def get_data_size(url: str):\n",
    "    import pyarrow.fs as pafs\n",
    "    if \"://\" not in url:\n",
    "        fs = pafs.LocalFileSystem()\n",
    "        info = fs.get_file_info(url)\n",
    "    else:\n",
    "        fs, path = pafs.FileSystem.from_uri(url)\n",
    "        info = fs.get_file_info(path)\n",
    "\n",
    "    size = info.size if info.type == pafs.FileType.File else None\n",
    "    return size\n",
    "\n",
    "\n",
    "print(get_data_size(\"./array.ipynb\"))\n",
    "print(get_data_size(\"./test\"))"
   ]
  },
  {
   "cell_type": "code",
   "execution_count": 2,
   "metadata": {},
   "outputs": [
    {
     "ename": "AttributeError",
     "evalue": "'pyarrow._fs.LocalFileSystem' object has no attribute 'exists'",
     "output_type": "error",
     "traceback": [
      "\u001b[0;31m---------------------------------------------------------------------------\u001b[0m",
      "\u001b[0;31mAttributeError\u001b[0m                            Traceback (most recent call last)",
      "Cell \u001b[0;32mIn[2], line 9\u001b[0m\n\u001b[1;32m      5\u001b[0m \u001b[38;5;66;03m# 创建一个 FileSystem 对象\u001b[39;00m\n\u001b[1;32m      6\u001b[0m \u001b[38;5;66;03m# fs = pa.fs.FileSystem()\u001b[39;00m\n\u001b[1;32m      8\u001b[0m file_path \u001b[38;5;241m=\u001b[39m \u001b[38;5;124m\"\u001b[39m\u001b[38;5;124m./file\u001b[39m\u001b[38;5;124m\"\u001b[39m\n\u001b[0;32m----> 9\u001b[0m \u001b[38;5;28;01mif\u001b[39;00m \u001b[38;5;129;01mnot\u001b[39;00m \u001b[43mfile_system\u001b[49m\u001b[38;5;241;43m.\u001b[39;49m\u001b[43mexists\u001b[49m(file_path):\n\u001b[1;32m     10\u001b[0m         file_system\u001b[38;5;241m.\u001b[39mopen(file_path,\u001b[38;5;124m\"\u001b[39m\u001b[38;5;124mw\u001b[39m\u001b[38;5;124m\"\u001b[39m)\n\u001b[1;32m     11\u001b[0m         \u001b[38;5;66;03m# file_system.create_file(file_path)\u001b[39;00m\n",
      "\u001b[0;31mAttributeError\u001b[0m: 'pyarrow._fs.LocalFileSystem' object has no attribute 'exists'"
     ]
    }
   ],
   "source": [
    "import pyarrow as pa\n",
    "from pyarrow import fs\n",
    "\n",
    "file_system = fs.LocalFileSystem()\n",
    "# 创建一个 FileSystem 对象\n",
    "# fs = pa.fs.FileSystem()\n",
    "\n",
    "file_path = \"./file\"\n",
    "file_system\n",
    "if not file_system.exists(file_path):\n",
    "        file_system.open(file_path,\"w\")\n",
    "        # file_system.create_file(file_path)"
   ]
  },
  {
   "cell_type": "code",
   "execution_count": 11,
   "metadata": {},
   "outputs": [
    {
     "name": "stdout",
     "output_type": "stream",
     "text": [
      "False\n",
      "False\n",
      "<class 'pyarrow.filesystem.LocalFileSystem'> <class 'pyarrow._fs.LocalFileSystem'>\n"
     ]
    },
    {
     "name": "stderr",
     "output_type": "stream",
     "text": [
      "/var/folders/y5/ssh5ylsd4tv7wfmm_06fmrqw0000gp/T/ipykernel_25978/2425978558.py:4: FutureWarning: pyarrow.filesystem.LocalFileSystem is deprecated as of 2.0.0, please use pyarrow.fs.LocalFileSystem instead.\n",
      "  from_pa = pa.filesystem.LocalFileSystem()\n"
     ]
    }
   ],
   "source": [
    "import pyarrow as pa\n",
    "\n",
    "# 使用 pa 导入 LocalFileSystem\n",
    "from_pa = pa.filesystem.LocalFileSystem()\n",
    "\n",
    "# 或者使用 pa._fs 导入 LocalFileSystem\n",
    "from_fs = pa._fs.LocalFileSystem()\n",
    "\n",
    "# 两者是等价的\n",
    "print(from_pa is from_fs)  # 输出 True\n",
    "print(from_pa == from_fs) \n",
    "print(type(from_pa),type(from_fs))\n",
    "\n"
   ]
  },
  {
   "cell_type": "code",
   "execution_count": 18,
   "metadata": {},
   "outputs": [
    {
     "name": "stdout",
     "output_type": "stream",
     "text": [
      "<FileInfo for 'op.txt': type=FileType.File, size=0>\n"
     ]
    },
    {
     "data": {
      "text/plain": [
       "<pyarrow.NativeFile closed=False own_file=False is_seekable=False is_writable=True is_readable=False>"
      ]
     },
     "execution_count": 18,
     "metadata": {},
     "output_type": "execute_result"
    }
   ],
   "source": [
    "from pyarrow import fs\n",
    "\n",
    "filesystem = fs.LocalFileSystem()\n",
    "\n",
    "fi = filesystem.get_file_info(\"op.txt\")\n",
    "print(fi)\n",
    "fi.type == fs.FileType.NotFound\n",
    "\n",
    "filesystem.open_append_stream(\"op.txt\")\n",
    "\n",
    "filesystem.open_output_stream(\"opp.txt\")"
   ]
  },
  {
   "cell_type": "code",
   "execution_count": 19,
   "metadata": {},
   "outputs": [
    {
     "data": {
      "text/plain": [
       "<pyarrow.NativeFile closed=False own_file=False is_seekable=False is_writable=True is_readable=False>"
      ]
     },
     "execution_count": 19,
     "metadata": {},
     "output_type": "execute_result"
    }
   ],
   "source": [
    "\n",
    "\n",
    "fi = file_system.get_file_info(file_path)\n",
    "if fi.type == fs.FileType.NotFound:\n",
    "    file_system.open_append_stream(file_path)"
   ]
  }
 ],
 "metadata": {
  "kernelspec": {
   "display_name": "Python 3",
   "language": "python",
   "name": "python3"
  },
  "language_info": {
   "codemirror_mode": {
    "name": "ipython",
    "version": 3
   },
   "file_extension": ".py",
   "mimetype": "text/x-python",
   "name": "python",
   "nbconvert_exporter": "python",
   "pygments_lexer": "ipython3",
   "version": "3.11.5"
  }
 },
 "nbformat": 4,
 "nbformat_minor": 2
}
