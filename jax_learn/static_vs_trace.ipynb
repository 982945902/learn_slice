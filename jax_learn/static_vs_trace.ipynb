{
 "cells": [
  {
   "cell_type": "code",
   "execution_count": 8,
   "metadata": {},
   "outputs": [],
   "source": [
    "import numpy as np\n",
    "from jax import numpy as jnp\n",
    "from jax import jit\n",
    "\n",
    "x = jnp.zeros((2,3))"
   ]
  },
  {
   "cell_type": "code",
   "execution_count": 9,
   "metadata": {},
   "outputs": [],
   "source": [
    "@jit\n",
    "def err_case(x):\n",
    "    x.reshape(jnp.array(x.shape).prod())    "
   ]
  },
  {
   "cell_type": "code",
   "execution_count": 13,
   "metadata": {},
   "outputs": [],
   "source": [
    "@jit\n",
    "def corret_case(x):\n",
    "    x.reshape(np.prod(x.shape))"
   ]
  },
  {
   "cell_type": "code",
   "execution_count": 10,
   "metadata": {},
   "outputs": [
    {
     "ename": "TypeError",
     "evalue": "Shapes must be 1D sequences of concrete values of integer type, got [Traced<ShapedArray(int32[])>with<DynamicJaxprTrace(level=1/0)>].\nIf using `jit`, try using `static_argnums` or applying `jit` to smaller subfunctions.\nThe error occurred while tracing the function err_case at /var/folders/y5/ssh5ylsd4tv7wfmm_06fmrqw0000gp/T/ipykernel_64225/890658734.py:1 for jit. This value became a tracer due to JAX operations on these lines:\n\n  operation a\u001b[35m:i32[2]\u001b[39m = convert_element_type[new_dtype=int32 weak_type=False] b\n    from line /var/folders/y5/ssh5ylsd4tv7wfmm_06fmrqw0000gp/T/ipykernel_64225/890658734.py:3:14 (err_case)",
     "output_type": "error",
     "traceback": [
      "\u001b[0;31m---------------------------------------------------------------------------\u001b[0m",
      "\u001b[0;31mTypeError\u001b[0m                                 Traceback (most recent call last)",
      "\u001b[1;32m/Users/lishuo121/workspace/learn_slice/jax_learn/static_vs_trace.ipynb 单元格 4\u001b[0m line \u001b[0;36m1\n\u001b[0;32m----> <a href='vscode-notebook-cell:/Users/lishuo121/workspace/learn_slice/jax_learn/static_vs_trace.ipynb#W3sZmlsZQ%3D%3D?line=0'>1</a>\u001b[0m err_case(x)\n",
      "    \u001b[0;31m[... skipping hidden 12 frame]\u001b[0m\n",
      "\u001b[1;32m/Users/lishuo121/workspace/learn_slice/jax_learn/static_vs_trace.ipynb 单元格 4\u001b[0m line \u001b[0;36m3\n\u001b[1;32m      <a href='vscode-notebook-cell:/Users/lishuo121/workspace/learn_slice/jax_learn/static_vs_trace.ipynb#W3sZmlsZQ%3D%3D?line=0'>1</a>\u001b[0m \u001b[39m@jit\u001b[39m\n\u001b[1;32m      <a href='vscode-notebook-cell:/Users/lishuo121/workspace/learn_slice/jax_learn/static_vs_trace.ipynb#W3sZmlsZQ%3D%3D?line=1'>2</a>\u001b[0m \u001b[39mdef\u001b[39;00m \u001b[39merr_case\u001b[39m(x):\n\u001b[0;32m----> <a href='vscode-notebook-cell:/Users/lishuo121/workspace/learn_slice/jax_learn/static_vs_trace.ipynb#W3sZmlsZQ%3D%3D?line=2'>3</a>\u001b[0m     x\u001b[39m.\u001b[39;49mreshape(jnp\u001b[39m.\u001b[39;49marray(x\u001b[39m.\u001b[39;49mshape)\u001b[39m.\u001b[39;49mprod())\n",
      "File \u001b[0;32m/opt/homebrew/lib/python3.11/site-packages/jax/_src/numpy/array_methods.py:733\u001b[0m, in \u001b[0;36m_forward_method_to_aval.<locals>.meth\u001b[0;34m(self, *args, **kwargs)\u001b[0m\n\u001b[1;32m    732\u001b[0m \u001b[39mdef\u001b[39;00m \u001b[39mmeth\u001b[39m(\u001b[39mself\u001b[39m, \u001b[39m*\u001b[39margs, \u001b[39m*\u001b[39m\u001b[39m*\u001b[39mkwargs):\n\u001b[0;32m--> 733\u001b[0m   \u001b[39mreturn\u001b[39;00m \u001b[39mgetattr\u001b[39;49m(\u001b[39mself\u001b[39;49m\u001b[39m.\u001b[39;49maval, name)\u001b[39m.\u001b[39;49mfun(\u001b[39mself\u001b[39;49m, \u001b[39m*\u001b[39;49margs, \u001b[39m*\u001b[39;49m\u001b[39m*\u001b[39;49mkwargs)\n",
      "File \u001b[0;32m/opt/homebrew/lib/python3.11/site-packages/jax/_src/numpy/array_methods.py:141\u001b[0m, in \u001b[0;36m_reshape\u001b[0;34m(a, order, *args)\u001b[0m\n\u001b[1;32m    136\u001b[0m \u001b[39mdef\u001b[39;00m \u001b[39m_reshape\u001b[39m(a: Array, \u001b[39m*\u001b[39margs: Any, order: \u001b[39mstr\u001b[39m \u001b[39m=\u001b[39m \u001b[39m\"\u001b[39m\u001b[39mC\u001b[39m\u001b[39m\"\u001b[39m) \u001b[39m-\u001b[39m\u001b[39m>\u001b[39m Array:\n\u001b[1;32m    137\u001b[0m \u001b[39m  \u001b[39m\u001b[39m\"\"\"Returns an array containing the same data with a new shape.\u001b[39;00m\n\u001b[1;32m    138\u001b[0m \n\u001b[1;32m    139\u001b[0m \u001b[39m  Refer to :func:`jax.numpy.reshape` for full documentation.\u001b[39;00m\n\u001b[1;32m    140\u001b[0m \u001b[39m  \"\"\"\u001b[39;00m\n\u001b[0;32m--> 141\u001b[0m   newshape \u001b[39m=\u001b[39m _compute_newshape(a, args[\u001b[39m0\u001b[39;49m] \u001b[39mif\u001b[39;49;00m \u001b[39mlen\u001b[39;49m(args) \u001b[39m==\u001b[39;49m \u001b[39m1\u001b[39;49m \u001b[39melse\u001b[39;49;00m args)\n\u001b[1;32m    142\u001b[0m   \u001b[39mif\u001b[39;00m order \u001b[39m==\u001b[39m \u001b[39m\"\u001b[39m\u001b[39mC\u001b[39m\u001b[39m\"\u001b[39m:\n\u001b[1;32m    143\u001b[0m     \u001b[39mreturn\u001b[39;00m lax\u001b[39m.\u001b[39mreshape(a, newshape, \u001b[39mNone\u001b[39;00m)\n",
      "File \u001b[0;32m/opt/homebrew/lib/python3.11/site-packages/jax/_src/numpy/array_methods.py:124\u001b[0m, in \u001b[0;36m_compute_newshape\u001b[0;34m(a, newshape)\u001b[0m\n\u001b[1;32m    122\u001b[0m \u001b[39mexcept\u001b[39;00m:\n\u001b[1;32m    123\u001b[0m   newshape \u001b[39m=\u001b[39m [newshape]\n\u001b[0;32m--> 124\u001b[0m newshape \u001b[39m=\u001b[39m core\u001b[39m.\u001b[39;49mcanonicalize_shape(newshape)  \u001b[39m# type: ignore[arg-type]\u001b[39;00m\n\u001b[1;32m    125\u001b[0m neg1s \u001b[39m=\u001b[39m [i \u001b[39mfor\u001b[39;00m i, d \u001b[39min\u001b[39;00m \u001b[39menumerate\u001b[39m(newshape) \u001b[39mif\u001b[39;00m \u001b[39mtype\u001b[39m(d) \u001b[39mis\u001b[39;00m \u001b[39mint\u001b[39m \u001b[39mand\u001b[39;00m d \u001b[39m==\u001b[39m \u001b[39m-\u001b[39m\u001b[39m1\u001b[39m]\n\u001b[1;32m    126\u001b[0m \u001b[39mif\u001b[39;00m \u001b[39mlen\u001b[39m(neg1s) \u001b[39m==\u001b[39m \u001b[39m1\u001b[39m:\n",
      "File \u001b[0;32m/opt/homebrew/lib/python3.11/site-packages/jax/_src/core.py:2051\u001b[0m, in \u001b[0;36mcanonicalize_shape\u001b[0;34m(shape, context)\u001b[0m\n\u001b[1;32m   2049\u001b[0m \u001b[39mexcept\u001b[39;00m \u001b[39mTypeError\u001b[39;00m:\n\u001b[1;32m   2050\u001b[0m   \u001b[39mpass\u001b[39;00m\n\u001b[0;32m-> 2051\u001b[0m \u001b[39mraise\u001b[39;00m _invalid_shape_error(shape, context)\n",
      "\u001b[0;31mTypeError\u001b[0m: Shapes must be 1D sequences of concrete values of integer type, got [Traced<ShapedArray(int32[])>with<DynamicJaxprTrace(level=1/0)>].\nIf using `jit`, try using `static_argnums` or applying `jit` to smaller subfunctions.\nThe error occurred while tracing the function err_case at /var/folders/y5/ssh5ylsd4tv7wfmm_06fmrqw0000gp/T/ipykernel_64225/890658734.py:1 for jit. This value became a tracer due to JAX operations on these lines:\n\n  operation a\u001b[35m:i32[2]\u001b[39m = convert_element_type[new_dtype=int32 weak_type=False] b\n    from line /var/folders/y5/ssh5ylsd4tv7wfmm_06fmrqw0000gp/T/ipykernel_64225/890658734.py:3:14 (err_case)"
     ]
    }
   ],
   "source": [
    "err_case(x)"
   ]
  },
  {
   "cell_type": "code",
   "execution_count": 14,
   "metadata": {},
   "outputs": [],
   "source": [
    "corret_case(x)"
   ]
  }
 ],
 "metadata": {
  "kernelspec": {
   "display_name": "Python 3",
   "language": "python",
   "name": "python3"
  },
  "language_info": {
   "codemirror_mode": {
    "name": "ipython",
    "version": 3
   },
   "file_extension": ".py",
   "mimetype": "text/x-python",
   "name": "python",
   "nbconvert_exporter": "python",
   "pygments_lexer": "ipython3",
   "version": "3.11.5"
  }
 },
 "nbformat": 4,
 "nbformat_minor": 2
}
