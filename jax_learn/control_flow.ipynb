{
 "cells": [
  {
   "cell_type": "code",
   "execution_count": 7,
   "metadata": {},
   "outputs": [],
   "source": [
    "import numpy as np\n",
    "from jax import numpy as jnp\n",
    "from jax import jit,grad,xla_computation"
   ]
  },
  {
   "cell_type": "code",
   "execution_count": 5,
   "metadata": {},
   "outputs": [
    {
     "name": "stdout",
     "output_type": "stream",
     "text": [
      "16.0\n",
      "-4.0\n",
      "0.0\n",
      "5.0\n",
      "16.0\n",
      "-4.0\n",
      "-4.0\n",
      "-4.0\n",
      "-4.0\n",
      "-4.0\n",
      "-4.0\n",
      "-4.0\n"
     ]
    }
   ],
   "source": [
    "def f(x):\n",
    "    if x < 3:\n",
    "        return x**3 + x**2\n",
    "    else:\n",
    "        return -4*x\n",
    "    \n",
    "print(grad(f)(2.0))\n",
    "print(grad(f)(4.0))\n",
    "\n",
    "for i in range(10):\n",
    "    print(grad(f)(float(i)))"
   ]
  },
  {
   "cell_type": "code",
   "execution_count": 10,
   "metadata": {},
   "outputs": [
    {
     "name": "stdout",
     "output_type": "stream",
     "text": [
      "3072\n",
      "HloModule xla_computation_f, entry_computation_layout={(s32[])->(s32[])}\n",
      "\n",
      "f.2 {\n",
      "  Arg_0.3 = s32[] parameter(0)\n",
      "  constant.4 = s32[] constant(2)\n",
      "  multiply.5 = s32[] multiply(Arg_0.3, constant.4)\n",
      "  multiply.6 = s32[] multiply(multiply.5, constant.4)\n",
      "  multiply.7 = s32[] multiply(multiply.6, constant.4)\n",
      "  multiply.8 = s32[] multiply(multiply.7, constant.4)\n",
      "  multiply.9 = s32[] multiply(multiply.8, constant.4)\n",
      "  multiply.10 = s32[] multiply(multiply.9, constant.4)\n",
      "  multiply.11 = s32[] multiply(multiply.10, constant.4)\n",
      "  multiply.12 = s32[] multiply(multiply.11, constant.4)\n",
      "  multiply.13 = s32[] multiply(multiply.12, constant.4)\n",
      "  ROOT multiply.14 = s32[] multiply(multiply.13, constant.4)\n",
      "}\n",
      "\n",
      "ENTRY main.17 {\n",
      "  Arg_0.1 = s32[] parameter(0)\n",
      "  call.15 = s32[] call(Arg_0.1), to_apply=f.2\n",
      "  ROOT tuple.16 = (s32[]) tuple(call.15)\n",
      "}\n",
      "\n",
      "\n"
     ]
    }
   ],
   "source": [
    "@jit\n",
    "def f(x):\n",
    "  for i in range(10):\n",
    "    x = 2 * x\n",
    "  return x\n",
    "\n",
    "print(f(3))\n",
    "\n",
    "f_comp = xla_computation(f)\n",
    "print(f_comp(3).as_hlo_text())"
   ]
  },
  {
   "cell_type": "code",
   "execution_count": 11,
   "metadata": {},
   "outputs": [
    {
     "name": "stdout",
     "output_type": "stream",
     "text": [
      "(3,)\n"
     ]
    }
   ],
   "source": [
    "print(jnp.array([1., 2., 3.]).shape)"
   ]
  }
 ],
 "metadata": {
  "kernelspec": {
   "display_name": "Python 3",
   "language": "python",
   "name": "python3"
  },
  "language_info": {
   "codemirror_mode": {
    "name": "ipython",
    "version": 3
   },
   "file_extension": ".py",
   "mimetype": "text/x-python",
   "name": "python",
   "nbconvert_exporter": "python",
   "pygments_lexer": "ipython3",
   "version": "3.12.2"
  }
 },
 "nbformat": 4,
 "nbformat_minor": 2
}
