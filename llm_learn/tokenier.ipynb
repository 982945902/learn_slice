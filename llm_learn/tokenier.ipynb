{
 "cells": [
  {
   "cell_type": "code",
   "execution_count": 1,
   "metadata": {},
   "outputs": [],
   "source": [
    "import re, collections\n",
    "\n",
    "def get_stats(vocab): # vocab : 存储 word -> freq 的 dict\n",
    "    ''' 计算词表中，字符的 2-gram 及其出现频次\n",
    "    '''\n",
    "    pairs = collections.defaultdict(int)\n",
    "    for word, freq in vocab.items():\n",
    "        symbols = word.split() # 拆分为字符序列\n",
    "        for i in range(len(symbols)-1):\n",
    "            pairs[symbols[i],symbols[i+1]] += freq # 计算字符的 2-gram 及其出现频次\n",
    "    return pairs\n",
    "\n",
    "def merge_vocab(pair, v_in): # pair 为最高频的 2-gram，v_in 为已有的 vocab\n",
    "    ''' 利用最高频的 2-gram 来更新已有的词表\n",
    "    '''\n",
    "    v_out = {}\n",
    "    bigram = re.escape(' '.join(pair)) # 对字符串中可能被解释为正则运算符的字符进行转义\n",
    "    p = re.compile(r'(?<!\\S)' + bigram + r'(?!\\S)') # 编译一个正则模式\n",
    "    # \\S 匹配任意非空字符\n",
    "    # (?<! \\S) 前向否定界定符。当 bigram 之前不是任意非空字符之时，匹配成功\n",
    "    # (?! \\S) 后向否定界定符。当 bigram 之后不是任意非空字符之时，匹配成功\n",
    "    for word in v_in:\n",
    "      w_out = p.sub(''.join(pair), word) # 将word中已有的pair替换为紧凑版本(移除中间的空格)\n",
    "      # 注意这里有两个 join(pair), 一个是 ' '.join() 带空格, 另一个是 ''.join() 不带空格\n",
    "      v_out[w_out] = v_in[word]\n",
    "    return v_out"
   ]
  },
  {
   "cell_type": "code",
   "execution_count": 10,
   "metadata": {},
   "outputs": [
    {
     "name": "stdout",
     "output_type": "stream",
     "text": [
      "{'l o w': 5, 'l o w e r': 2, 'n e w es t': 6, 'w i d es t': 3}\n",
      "{'l o w': 5, 'l o w e r': 2, 'n e w est': 6, 'w i d est': 3}\n",
      "{'lo w': 5, 'lo w e r': 2, 'n e w est': 6, 'w i d est': 3}\n",
      "{'low': 5, 'low e r': 2, 'n e w est': 6, 'w i d est': 3}\n",
      "{'low': 5, 'low e r': 2, 'ne w est': 6, 'w i d est': 3}\n",
      "{'low': 5, 'low e r': 2, 'new est': 6, 'w i d est': 3}\n",
      "{'low': 5, 'low e r': 2, 'newest': 6, 'w i d est': 3}\n",
      "{'low': 5, 'low e r': 2, 'newest': 6, 'wi d est': 3}\n",
      "{'low': 5, 'low e r': 2, 'newest': 6, 'wid est': 3}\n",
      "{'low': 5, 'low e r': 2, 'newest': 6, 'widest': 3}\n"
     ]
    }
   ],
   "source": [
    "vocab = {'l o w' : 5, 'l o w e r' : 2, # initial vocabulary\n",
    "         'n e w e s t':6, 'w i d e s t':3}\n",
    "num_merges = 10\n",
    "for i in range(num_merges):\n",
    "    pairs = get_stats(vocab)\n",
    "    best = max(pairs, key=pairs.get)\n",
    "    vocab = merge_vocab(best, vocab)\n",
    "    print(vocab)"
   ]
  }
 ],
 "metadata": {
  "kernelspec": {
   "display_name": "Python 3",
   "language": "python",
   "name": "python3"
  },
  "language_info": {
   "codemirror_mode": {
    "name": "ipython",
    "version": 3
   },
   "file_extension": ".py",
   "mimetype": "text/x-python",
   "name": "python",
   "nbconvert_exporter": "python",
   "pygments_lexer": "ipython3",
   "version": "3.11.5"
  }
 },
 "nbformat": 4,
 "nbformat_minor": 2
}
